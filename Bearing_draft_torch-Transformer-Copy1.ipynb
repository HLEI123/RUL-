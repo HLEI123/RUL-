{
 "cells": [
  {
   "cell_type": "code",
   "execution_count": 1,
   "metadata": {},
   "outputs": [
    {
     "name": "stderr",
     "output_type": "stream",
     "text": [
      "C:\\Users\\dell\\anaconda3\\envs\\pytorch\\lib\\site-packages\\tqdm\\auto.py:22: TqdmWarning: IProgress not found. Please update jupyter and ipywidgets. See https://ipywidgets.readthedocs.io/en/stable/user_install.html\n",
      "  from .autonotebook import tqdm as notebook_tqdm\n"
     ]
    },
    {
     "name": "stdout",
     "output_type": "stream",
     "text": [
      "cuda\n"
     ]
    }
   ],
   "source": [
    "from data_provider.data_loader import sequence_data_loader\n",
    "import sys\n",
    "sys.path.append(\"...\")\n",
    "from models.Autoencoder import AE\n",
    "from models.Transformer import Transforemer_Encoder\n",
    "import numpy as np\n",
    "import pandas as pd\n",
    "import os\n",
    "import torch\n",
    "import matplotlib.pyplot as plt\n",
    "from torch import nn\n",
    "plt.rcParams['font.sans-serif'] = 'Simsun'\n",
    "plt.rcParams.update({'font.size': 12}) # 改变所有字体大小，改变其他性质类似\n",
    "\n",
    "import warnings\n",
    "warnings.filterwarnings('ignore')\n",
    "\n",
    "device = torch.device('cuda' if torch.cuda.is_available() else 'cpu')\n",
    "print(device)"
   ]
  },
  {
   "cell_type": "code",
   "execution_count": 3,
   "metadata": {},
   "outputs": [
    {
     "name": "stdout",
     "output_type": "stream",
     "text": [
      "x_train shape: (6049, 64, 27)\n",
      "x_test shape: (2463, 64, 27)\n",
      "(4707, 64, 27)\n",
      "训练集的特征形状, x_train ： torch.Size([6049, 64, 27])\n",
      "训练集的标签形状, y_train ： torch.Size([6049])\n",
      "验证集的特征性状，x_val ： torch.Size([2463, 64, 27])\n",
      "验证集的标签形状，y_val ： torch.Size([2463])\n",
      "测试集的特征形状, x_test ： torch.Size([4707, 64, 27])\n",
      "测试集的标签形状, y_test ： torch.Size([4707])\n"
     ]
    }
   ],
   "source": [
    "feature_size=27\n",
    "data_path=\"PHM2012/时域频域特征提取/退化比例0.5/\"\n",
    "header=None\n",
    "output_feature_size=27\n",
    "sequence_length=64\n",
    "\n",
    "data_train_loader,data_val_loader,data_test_loader=sequence_data_loader(feature_size,data_path,header,output_feature_size,sequence_length,degradation_ratio=0.8)\n"
   ]
  },
  {
   "cell_type": "code",
   "execution_count": 4,
   "metadata": {},
   "outputs": [],
   "source": [
    "###设置transformer的基本参数\n",
    "\n",
    "# define and load model\n",
    "model = Transforemer_Encoder(embedding_encoder=None,embedding_size=27,feature_size=256,\n",
    "                             nhead=2, num_layers=2, dropout=0.25).to(device)\n"
   ]
  },
  {
   "cell_type": "code",
   "execution_count": 12,
   "metadata": {},
   "outputs": [],
   "source": [
    "\n",
    "##output.detach().cpu().numpy())#能缩短计算时间\n",
    "def Epoch_evaluate(net, loader):\n",
    "    net.eval()\n",
    "    min_val_loss = 0.0\n",
    "    val_rmse = 0.0\n",
    "    val_score = 0.0\n",
    "    i = 0\n",
    "    preds = []\n",
    "    true = []\n",
    "    with torch.no_grad():\n",
    "        for data, target in loader:\n",
    "            data, target = data.to(device), target.to(device)\n",
    "            #             data = data.view(-1, input_channels, seq_length)#permute(0,2,1)#\n",
    "            # 上述一步是Torch中卷积操作独有的，如果是LSTM，transformer可以注释掉这行代码\n",
    "\n",
    "            output = net(data)\n",
    "            output = output.squeeze(1)\n",
    "\n",
    "            preds.append(output.detach().cpu().numpy())\n",
    "            true.append(target.detach().cpu().numpy())\n",
    "\n",
    "            min_val_loss += Losses(output, target).item()\n",
    "            i += 1\n",
    "        min_val_loss = min_val_loss / i\n",
    "        val_rmse = np.sqrt(min_val_loss)\n",
    "        preds = np.concatenate(preds)\n",
    "        true = np.concatenate(true)\n",
    "        #         val_score =np.float(Scoring_2008(true,preds))\n",
    "        return round(min_val_loss, 5), np.round(val_rmse, 5)\n",
    "\n",
    "# 现在都是对的了\n",
    "def Last_evaluate2(net, loader):\n",
    "    net.eval()\n",
    "    min_val_loss = 0.0\n",
    "    np_mse = 0.0\n",
    "    preds = []\n",
    "    true = []\n",
    "    i = 0\n",
    "    with torch.no_grad():\n",
    "        for data, target in loader:\n",
    "            data, target = data.to(device), target.to(device)\n",
    "            #             data = data.view(-1, input_channels, seq_length)#permute(0,2,1)\n",
    "            # 上述一步是Torch中卷积操作独有的，如果是LSTM，transformer可以注释掉这行代码\n",
    "            output = net(data)\n",
    "            output = output.squeeze(1)\n",
    "            preds.append(output.detach().cpu().numpy())\n",
    "            true.append(target.detach().cpu().numpy())\n",
    "            min_val_loss += Losses(output, target).item()\n",
    "            i += 1\n",
    "        min_val_loss = min_val_loss / i\n",
    "        preds = np.concatenate(preds)\n",
    "        true = np.concatenate(true)\n",
    "        return np.round(preds, 4), np.round(true, 5)\n",
    "\n"
   ]
  },
  {
   "cell_type": "code",
   "execution_count": 13,
   "metadata": {},
   "outputs": [
    {
     "name": "stdout",
     "output_type": "stream",
     "text": [
      "epoch [1/300], loss:0.1906, val_loss:0.19745, val_RMSE:0.44436, lr:0.001\n",
      "epoch [2/300], loss:0.1681, val_loss:0.49527, val_RMSE:0.70376, lr:0.001\n",
      "epoch [3/300], loss:0.2199, val_loss:0.19745, val_RMSE:0.44435, lr:0.001\n",
      "epoch [4/300], loss:0.1792, val_loss:0.19744, val_RMSE:0.44435, lr:0.001\n",
      "epoch [5/300], loss:0.1792, val_loss:0.19744, val_RMSE:0.44434, lr:0.001\n",
      "epoch [6/300], loss:0.1792, val_loss:0.19739, val_RMSE:0.44428, lr:0.001\n",
      "epoch [7/300], loss:0.1285, val_loss:0.62408, val_RMSE:0.78999, lr:0.001\n",
      "epoch [8/300], loss:0.2619, val_loss:0.1927, val_RMSE:0.43897, lr:0.001\n",
      "epoch [9/300], loss:0.1594, val_loss:0.19129, val_RMSE:0.43737, lr:0.001\n",
      "epoch [10/300], loss:0.1520, val_loss:0.15901, val_RMSE:0.39876, lr:0.001\n",
      "epoch [11/300], loss:0.1411, val_loss:0.14758, val_RMSE:0.38417, lr:0.001\n",
      "epoch [12/300], loss:0.1308, val_loss:0.13359, val_RMSE:0.3655, lr:0.001\n",
      "epoch [13/300], loss:0.1302, val_loss:0.1302, val_RMSE:0.36084, lr:0.001\n",
      "epoch [14/300], loss:0.1278, val_loss:0.12887, val_RMSE:0.35898, lr:0.001\n",
      "epoch [15/300], loss:0.1264, val_loss:0.12797, val_RMSE:0.35773, lr:0.001\n",
      "epoch [16/300], loss:0.1251, val_loss:0.1275, val_RMSE:0.35707, lr:0.001\n",
      "epoch [17/300], loss:0.1237, val_loss:0.12712, val_RMSE:0.35654, lr:0.001\n",
      "epoch [18/300], loss:0.1232, val_loss:0.12694, val_RMSE:0.35629, lr:0.001\n",
      "epoch [19/300], loss:0.1223, val_loss:0.12657, val_RMSE:0.35577, lr:0.001\n",
      "epoch [20/300], loss:0.1221, val_loss:0.1265, val_RMSE:0.35567, lr:0.001\n",
      "epoch [21/300], loss:0.1210, val_loss:0.12644, val_RMSE:0.35558, lr:0.001\n",
      "epoch [22/300], loss:0.1211, val_loss:0.12642, val_RMSE:0.35556, lr:0.001\n",
      "epoch [23/300], loss:0.1202, val_loss:0.12622, val_RMSE:0.35528, lr:0.001\n",
      "epoch [24/300], loss:0.1202, val_loss:0.1262, val_RMSE:0.35524, lr:0.001\n",
      "epoch [25/300], loss:0.1197, val_loss:0.12609, val_RMSE:0.35508, lr:0.001\n",
      "epoch [26/300], loss:0.1194, val_loss:0.126, val_RMSE:0.35496, lr:0.001\n",
      "epoch [27/300], loss:0.1194, val_loss:0.12614, val_RMSE:0.35517, lr:0.001\n",
      "epoch [28/300], loss:0.1191, val_loss:0.12602, val_RMSE:0.35499, lr:0.001\n",
      "epoch [29/300], loss:0.1190, val_loss:0.12592, val_RMSE:0.35486, lr:0.001\n",
      "epoch [30/300], loss:0.1184, val_loss:0.12589, val_RMSE:0.35481, lr:0.001\n",
      "epoch [31/300], loss:0.1184, val_loss:0.12597, val_RMSE:0.35493, lr:0.001\n",
      "epoch [32/300], loss:0.1185, val_loss:0.12589, val_RMSE:0.35481, lr:0.001\n",
      "epoch [33/300], loss:0.1182, val_loss:0.12585, val_RMSE:0.35475, lr:0.001\n",
      "epoch [34/300], loss:0.1177, val_loss:0.12584, val_RMSE:0.35473, lr:0.001\n",
      "epoch [35/300], loss:0.1176, val_loss:0.12588, val_RMSE:0.35479, lr:0.001\n",
      "epoch [36/300], loss:0.1174, val_loss:0.1259, val_RMSE:0.35483, lr:0.001\n",
      "epoch [37/300], loss:0.1177, val_loss:0.12584, val_RMSE:0.35474, lr:0.001\n",
      "epoch [38/300], loss:0.1172, val_loss:0.1258, val_RMSE:0.35469, lr:0.001\n",
      "epoch [39/300], loss:0.1175, val_loss:0.12575, val_RMSE:0.35461, lr:0.001\n",
      "epoch [40/300], loss:0.1173, val_loss:0.12578, val_RMSE:0.35466, lr:0.001\n",
      "epoch [41/300], loss:0.1170, val_loss:0.12575, val_RMSE:0.35461, lr:0.001\n",
      "epoch [42/300], loss:0.1170, val_loss:0.12578, val_RMSE:0.35465, lr:0.001\n",
      "epoch [43/300], loss:0.1169, val_loss:0.12567, val_RMSE:0.3545, lr:0.001\n",
      "epoch [44/300], loss:0.1167, val_loss:0.12572, val_RMSE:0.35457, lr:0.001\n",
      "epoch [45/300], loss:0.1167, val_loss:0.12568, val_RMSE:0.35451, lr:0.001\n",
      "epoch [46/300], loss:0.1172, val_loss:0.1257, val_RMSE:0.35454, lr:0.001\n",
      "epoch [47/300], loss:0.1168, val_loss:0.12564, val_RMSE:0.35445, lr:0.001\n",
      "epoch [48/300], loss:0.1168, val_loss:0.12569, val_RMSE:0.35453, lr:0.001\n",
      "epoch [49/300], loss:0.1176, val_loss:0.12568, val_RMSE:0.35451, lr:0.001\n",
      "epoch [50/300], loss:0.1174, val_loss:0.12583, val_RMSE:0.35472, lr:0.001\n",
      "epoch [51/300], loss:0.1166, val_loss:0.12558, val_RMSE:0.35438, lr:0.001\n",
      "epoch [52/300], loss:0.1166, val_loss:0.12558, val_RMSE:0.35437, lr:0.001\n",
      "epoch [53/300], loss:0.1166, val_loss:0.12554, val_RMSE:0.35432, lr:0.001\n",
      "epoch [54/300], loss:0.1164, val_loss:0.12552, val_RMSE:0.35429, lr:0.001\n",
      "epoch [55/300], loss:0.1164, val_loss:0.12555, val_RMSE:0.35433, lr:0.001\n",
      "epoch [56/300], loss:0.1156, val_loss:0.12558, val_RMSE:0.35437, lr:0.001\n",
      "epoch [57/300], loss:0.1196, val_loss:0.1261, val_RMSE:0.3551, lr:0.001\n",
      "epoch [58/300], loss:0.1164, val_loss:0.12563, val_RMSE:0.35445, lr:0.001\n",
      "epoch [59/300], loss:0.1167, val_loss:0.12549, val_RMSE:0.35424, lr:0.001\n",
      "epoch [60/300], loss:0.1162, val_loss:0.12544, val_RMSE:0.35417, lr:0.001\n",
      "epoch [61/300], loss:0.1162, val_loss:0.12551, val_RMSE:0.35427, lr:0.001\n",
      "epoch [62/300], loss:0.1162, val_loss:0.12544, val_RMSE:0.35417, lr:0.001\n",
      "epoch [63/300], loss:0.1163, val_loss:0.12542, val_RMSE:0.35415, lr:0.001\n",
      "epoch [64/300], loss:0.1165, val_loss:0.12542, val_RMSE:0.35415, lr:0.001\n",
      "epoch [65/300], loss:0.1161, val_loss:0.12543, val_RMSE:0.35416, lr:0.001\n",
      "epoch [66/300], loss:0.1161, val_loss:0.12542, val_RMSE:0.35415, lr:0.001\n",
      "epoch [67/300], loss:0.1164, val_loss:0.12544, val_RMSE:0.35417, lr:0.001\n",
      "epoch [68/300], loss:0.1164, val_loss:0.12546, val_RMSE:0.35421, lr:0.001\n",
      "epoch [69/300], loss:0.1159, val_loss:0.12546, val_RMSE:0.3542, lr:0.001\n",
      "epoch [70/300], loss:0.1164, val_loss:0.12543, val_RMSE:0.35416, lr:0.001\n",
      "epoch [71/300], loss:0.1162, val_loss:0.12537, val_RMSE:0.35407, lr:0.001\n",
      "epoch [72/300], loss:0.1160, val_loss:0.12542, val_RMSE:0.35414, lr:0.001\n",
      "epoch [73/300], loss:0.1159, val_loss:0.12547, val_RMSE:0.35421, lr:0.001\n",
      "epoch [74/300], loss:0.1159, val_loss:0.12536, val_RMSE:0.35406, lr:0.001\n",
      "epoch [75/300], loss:0.1158, val_loss:0.12536, val_RMSE:0.35407, lr:0.001\n",
      "epoch [76/300], loss:0.1157, val_loss:0.1254, val_RMSE:0.35411, lr:0.001\n",
      "epoch [77/300], loss:0.1160, val_loss:0.12539, val_RMSE:0.35411, lr:0.001\n",
      "epoch [78/300], loss:0.1160, val_loss:0.12535, val_RMSE:0.35405, lr:0.001\n",
      "epoch [79/300], loss:0.1157, val_loss:0.12538, val_RMSE:0.35409, lr:0.001\n",
      "epoch [80/300], loss:0.1163, val_loss:0.12544, val_RMSE:0.35417, lr:0.001\n",
      "epoch [81/300], loss:0.1159, val_loss:0.1254, val_RMSE:0.35411, lr:0.001\n",
      "epoch [82/300], loss:0.1163, val_loss:0.12545, val_RMSE:0.35418, lr:0.001\n",
      "epoch [83/300], loss:0.1163, val_loss:0.12547, val_RMSE:0.35421, lr:0.001\n",
      "epoch [84/300], loss:0.1160, val_loss:0.12538, val_RMSE:0.35409, lr:0.001\n",
      "epoch [85/300], loss:0.1158, val_loss:0.12532, val_RMSE:0.35401, lr:0.001\n",
      "epoch [86/300], loss:0.1157, val_loss:0.12536, val_RMSE:0.35406, lr:0.001\n",
      "epoch [87/300], loss:0.1160, val_loss:0.12536, val_RMSE:0.35406, lr:0.001\n",
      "epoch [88/300], loss:0.1160, val_loss:0.12537, val_RMSE:0.35407, lr:0.001\n",
      "epoch [89/300], loss:0.1160, val_loss:0.12536, val_RMSE:0.35406, lr:0.001\n",
      "epoch [90/300], loss:0.1160, val_loss:0.12539, val_RMSE:0.35411, lr:0.001\n",
      "epoch [91/300], loss:0.1162, val_loss:0.12542, val_RMSE:0.35414, lr:0.001\n",
      "epoch [92/300], loss:0.1159, val_loss:0.12537, val_RMSE:0.35408, lr:0.001\n",
      "epoch [93/300], loss:0.1160, val_loss:0.12544, val_RMSE:0.35417, lr:0.001\n",
      "epoch [94/300], loss:0.1158, val_loss:0.12536, val_RMSE:0.35406, lr:0.001\n",
      "epoch [95/300], loss:0.1161, val_loss:0.12542, val_RMSE:0.35415, lr:0.001\n",
      "epoch [96/300], loss:0.1158, val_loss:0.1254, val_RMSE:0.35412, lr:0.001\n",
      "epoch [97/300], loss:0.1158, val_loss:0.12529, val_RMSE:0.35396, lr:0.001\n",
      "epoch [98/300], loss:0.1159, val_loss:0.12534, val_RMSE:0.35404, lr:0.001\n",
      "epoch [99/300], loss:0.1158, val_loss:0.12525, val_RMSE:0.35391, lr:0.001\n",
      "epoch [100/300], loss:0.1161, val_loss:0.12533, val_RMSE:0.35402, lr:0.001\n",
      "epoch [101/300], loss:0.1161, val_loss:0.12536, val_RMSE:0.35406, lr:0.001\n",
      "epoch [102/300], loss:0.1158, val_loss:0.12538, val_RMSE:0.35409, lr:0.001\n",
      "epoch [103/300], loss:0.1155, val_loss:0.12537, val_RMSE:0.35408, lr:0.001\n",
      "epoch [104/300], loss:0.1154, val_loss:0.12533, val_RMSE:0.35402, lr:0.001\n",
      "epoch [105/300], loss:0.1153, val_loss:0.12529, val_RMSE:0.35397, lr:0.001\n",
      "epoch [106/300], loss:0.1160, val_loss:0.12526, val_RMSE:0.35392, lr:0.001\n",
      "epoch [107/300], loss:0.1160, val_loss:0.12524, val_RMSE:0.35389, lr:0.001\n",
      "epoch [108/300], loss:0.1162, val_loss:0.12529, val_RMSE:0.35396, lr:0.001\n",
      "epoch [109/300], loss:0.1165, val_loss:0.12524, val_RMSE:0.3539, lr:0.001\n",
      "epoch [110/300], loss:0.1160, val_loss:0.12531, val_RMSE:0.35399, lr:0.001\n",
      "epoch [111/300], loss:0.1162, val_loss:0.1254, val_RMSE:0.35412, lr:0.001\n"
     ]
    },
    {
     "name": "stdout",
     "output_type": "stream",
     "text": [
      "epoch [112/300], loss:0.1158, val_loss:0.12539, val_RMSE:0.35411, lr:0.001\n",
      "epoch [113/300], loss:0.1153, val_loss:0.12528, val_RMSE:0.35395, lr:0.001\n",
      "epoch [114/300], loss:0.1159, val_loss:0.12529, val_RMSE:0.35396, lr:0.001\n",
      "epoch [115/300], loss:0.1157, val_loss:0.12523, val_RMSE:0.35387, lr:0.001\n",
      "epoch [116/300], loss:0.1160, val_loss:0.12524, val_RMSE:0.35389, lr:0.001\n",
      "epoch [117/300], loss:0.1159, val_loss:0.12521, val_RMSE:0.35385, lr:0.001\n",
      "epoch [118/300], loss:0.1157, val_loss:0.12524, val_RMSE:0.35389, lr:0.001\n",
      "epoch [119/300], loss:0.1157, val_loss:0.1253, val_RMSE:0.35398, lr:0.001\n",
      "epoch [120/300], loss:0.1152, val_loss:0.1253, val_RMSE:0.35398, lr:0.001\n",
      "epoch [121/300], loss:0.1160, val_loss:0.12524, val_RMSE:0.3539, lr:0.001\n",
      "epoch [122/300], loss:0.1152, val_loss:0.12531, val_RMSE:0.354, lr:0.001\n",
      "epoch [123/300], loss:0.1155, val_loss:0.12536, val_RMSE:0.35406, lr:0.001\n",
      "epoch [124/300], loss:0.1156, val_loss:0.12533, val_RMSE:0.35402, lr:0.001\n",
      "epoch [125/300], loss:0.1158, val_loss:0.12528, val_RMSE:0.35395, lr:0.001\n",
      "epoch [126/300], loss:0.1158, val_loss:0.12521, val_RMSE:0.35386, lr:0.001\n",
      "epoch [127/300], loss:0.1157, val_loss:0.12504, val_RMSE:0.35361, lr:0.001\n",
      "epoch [128/300], loss:0.1129, val_loss:0.12418, val_RMSE:0.35239, lr:0.001\n",
      "epoch [129/300], loss:0.1324, val_loss:0.13204, val_RMSE:0.36337, lr:0.001\n",
      "epoch [130/300], loss:0.1221, val_loss:0.12903, val_RMSE:0.35921, lr:0.001\n",
      "epoch [131/300], loss:0.1144, val_loss:0.12632, val_RMSE:0.35542, lr:0.001\n",
      "epoch [132/300], loss:0.1148, val_loss:0.1255, val_RMSE:0.35426, lr:0.001\n",
      "epoch [133/300], loss:0.1157, val_loss:0.1254, val_RMSE:0.35411, lr:0.001\n",
      "epoch [134/300], loss:0.1155, val_loss:0.12534, val_RMSE:0.35404, lr:0.001\n",
      "epoch [135/300], loss:0.1152, val_loss:0.12533, val_RMSE:0.35402, lr:0.001\n",
      "epoch [136/300], loss:0.1148, val_loss:0.12529, val_RMSE:0.35397, lr:0.001\n",
      "epoch [137/300], loss:0.1155, val_loss:0.12535, val_RMSE:0.35405, lr:0.001\n",
      "epoch [138/300], loss:0.1152, val_loss:0.12526, val_RMSE:0.35393, lr:0.001\n",
      "epoch [139/300], loss:0.1151, val_loss:0.12522, val_RMSE:0.35386, lr:0.001\n",
      "epoch [140/300], loss:0.1157, val_loss:0.12524, val_RMSE:0.35389, lr:0.001\n",
      "epoch [141/300], loss:0.1155, val_loss:0.1252, val_RMSE:0.35384, lr:0.001\n",
      "epoch [142/300], loss:0.1154, val_loss:0.12523, val_RMSE:0.35388, lr:0.001\n",
      "epoch [143/300], loss:0.1151, val_loss:0.12515, val_RMSE:0.35376, lr:0.001\n",
      "epoch [144/300], loss:0.1151, val_loss:0.12519, val_RMSE:0.35382, lr:0.001\n",
      "epoch [145/300], loss:0.1151, val_loss:0.12511, val_RMSE:0.35372, lr:0.001\n",
      "epoch [146/300], loss:0.1154, val_loss:0.12517, val_RMSE:0.3538, lr:0.001\n",
      "epoch [147/300], loss:0.1153, val_loss:0.12519, val_RMSE:0.35382, lr:0.001\n",
      "epoch [148/300], loss:0.1157, val_loss:0.12518, val_RMSE:0.35381, lr:0.001\n",
      "epoch [149/300], loss:0.1154, val_loss:0.12512, val_RMSE:0.35373, lr:0.001\n",
      "epoch [150/300], loss:0.1153, val_loss:0.12519, val_RMSE:0.35383, lr:0.001\n",
      "epoch [151/300], loss:0.1153, val_loss:0.12523, val_RMSE:0.35389, lr:0.001\n",
      "epoch [152/300], loss:0.1155, val_loss:0.12521, val_RMSE:0.35385, lr:0.001\n",
      "epoch [153/300], loss:0.1153, val_loss:0.12525, val_RMSE:0.3539, lr:0.001\n",
      "epoch [154/300], loss:0.1152, val_loss:0.12526, val_RMSE:0.35392, lr:0.001\n",
      "epoch [155/300], loss:0.1154, val_loss:0.12518, val_RMSE:0.35381, lr:0.001\n",
      "epoch [156/300], loss:0.1152, val_loss:0.12519, val_RMSE:0.35382, lr:0.001\n",
      "epoch [157/300], loss:0.1153, val_loss:0.12524, val_RMSE:0.3539, lr:0.001\n",
      "epoch [158/300], loss:0.1149, val_loss:0.12553, val_RMSE:0.35431, lr:0.001\n",
      "epoch [159/300], loss:0.1154, val_loss:0.12535, val_RMSE:0.35405, lr:0.001\n",
      "epoch [160/300], loss:0.1158, val_loss:0.12565, val_RMSE:0.35447, lr:0.001\n",
      "epoch [161/300], loss:0.1145, val_loss:0.12306, val_RMSE:0.3508, lr:0.001\n",
      "epoch [162/300], loss:0.1162, val_loss:0.1239, val_RMSE:0.352, lr:0.001\n",
      "epoch [163/300], loss:0.1144, val_loss:0.12324, val_RMSE:0.35105, lr:0.001\n",
      "epoch [164/300], loss:0.1163, val_loss:0.12451, val_RMSE:0.35287, lr:0.001\n",
      "epoch [165/300], loss:0.1168, val_loss:0.1241, val_RMSE:0.35228, lr:0.001\n",
      "epoch [166/300], loss:0.1199, val_loss:0.12585, val_RMSE:0.35476, lr:0.001\n",
      "epoch [167/300], loss:0.1166, val_loss:0.12638, val_RMSE:0.3555, lr:0.001\n",
      "epoch [168/300], loss:0.1149, val_loss:0.12548, val_RMSE:0.35424, lr:0.001\n",
      "epoch [169/300], loss:0.1149, val_loss:0.12517, val_RMSE:0.35379, lr:0.001\n",
      "epoch [170/300], loss:0.1150, val_loss:0.12509, val_RMSE:0.35368, lr:0.001\n",
      "epoch [171/300], loss:0.1147, val_loss:0.12509, val_RMSE:0.35368, lr:0.001\n",
      "epoch [172/300], loss:0.1151, val_loss:0.12512, val_RMSE:0.35373, lr:0.001\n",
      "epoch [173/300], loss:0.1149, val_loss:0.1251, val_RMSE:0.35369, lr:0.001\n",
      "epoch [174/300], loss:0.1148, val_loss:0.12503, val_RMSE:0.35359, lr:0.001\n",
      "epoch [175/300], loss:0.1153, val_loss:0.12502, val_RMSE:0.35359, lr:0.001\n",
      "epoch [176/300], loss:0.1149, val_loss:0.12502, val_RMSE:0.35359, lr:0.001\n",
      "epoch [177/300], loss:0.1150, val_loss:0.12499, val_RMSE:0.35354, lr:0.001\n",
      "epoch [178/300], loss:0.1156, val_loss:0.12505, val_RMSE:0.35362, lr:0.001\n",
      "epoch [179/300], loss:0.1153, val_loss:0.12502, val_RMSE:0.35359, lr:0.001\n",
      "epoch [180/300], loss:0.1153, val_loss:0.125, val_RMSE:0.35356, lr:0.001\n",
      "epoch [181/300], loss:0.1154, val_loss:0.12504, val_RMSE:0.35361, lr:0.001\n",
      "epoch [182/300], loss:0.1151, val_loss:0.12502, val_RMSE:0.35358, lr:0.001\n",
      "epoch [183/300], loss:0.1157, val_loss:0.12501, val_RMSE:0.35356, lr:0.001\n",
      "epoch [184/300], loss:0.1148, val_loss:0.12502, val_RMSE:0.35358, lr:0.001\n",
      "epoch [185/300], loss:0.1152, val_loss:0.12504, val_RMSE:0.35361, lr:0.001\n",
      "epoch [186/300], loss:0.1152, val_loss:0.12502, val_RMSE:0.35358, lr:0.001\n",
      "epoch [187/300], loss:0.1149, val_loss:0.125, val_RMSE:0.35356, lr:0.001\n",
      "epoch [188/300], loss:0.1153, val_loss:0.12504, val_RMSE:0.35361, lr:0.001\n",
      "epoch [189/300], loss:0.1146, val_loss:0.12498, val_RMSE:0.35353, lr:0.001\n",
      "epoch [190/300], loss:0.1152, val_loss:0.12499, val_RMSE:0.35354, lr:0.001\n",
      "epoch [191/300], loss:0.1152, val_loss:0.12501, val_RMSE:0.35357, lr:0.001\n",
      "epoch [192/300], loss:0.1151, val_loss:0.12496, val_RMSE:0.3535, lr:0.001\n",
      "epoch [193/300], loss:0.1150, val_loss:0.12504, val_RMSE:0.35362, lr:0.001\n",
      "epoch [194/300], loss:0.1151, val_loss:0.12504, val_RMSE:0.35361, lr:0.001\n",
      "epoch [195/300], loss:0.1157, val_loss:0.12499, val_RMSE:0.35354, lr:0.001\n",
      "epoch [196/300], loss:0.1153, val_loss:0.12497, val_RMSE:0.35351, lr:0.001\n",
      "epoch [197/300], loss:0.1153, val_loss:0.125, val_RMSE:0.35356, lr:0.001\n",
      "epoch [198/300], loss:0.1152, val_loss:0.12499, val_RMSE:0.35353, lr:0.001\n",
      "epoch [199/300], loss:0.1152, val_loss:0.12494, val_RMSE:0.35347, lr:0.001\n",
      "epoch [200/300], loss:0.1151, val_loss:0.12493, val_RMSE:0.35346, lr:0.001\n",
      "epoch [201/300], loss:0.1147, val_loss:0.12492, val_RMSE:0.35345, lr:0.001\n",
      "epoch [202/300], loss:0.1149, val_loss:0.12496, val_RMSE:0.35349, lr:0.001\n",
      "epoch [203/300], loss:0.1152, val_loss:0.12496, val_RMSE:0.35349, lr:0.001\n",
      "epoch [204/300], loss:0.1152, val_loss:0.1249, val_RMSE:0.35341, lr:0.001\n",
      "epoch [205/300], loss:0.1149, val_loss:0.12483, val_RMSE:0.35331, lr:0.001\n",
      "epoch [206/300], loss:0.1146, val_loss:0.12463, val_RMSE:0.35304, lr:0.001\n",
      "epoch [207/300], loss:0.1155, val_loss:0.12424, val_RMSE:0.35248, lr:0.001\n",
      "epoch [208/300], loss:0.1164, val_loss:0.12414, val_RMSE:0.35233, lr:0.001\n",
      "epoch [209/300], loss:0.1162, val_loss:0.12497, val_RMSE:0.35351, lr:0.001\n",
      "epoch [210/300], loss:0.1146, val_loss:0.12464, val_RMSE:0.35305, lr:0.001\n",
      "epoch [211/300], loss:0.1150, val_loss:0.12484, val_RMSE:0.35332, lr:0.001\n",
      "epoch [212/300], loss:0.1152, val_loss:0.12469, val_RMSE:0.35311, lr:0.001\n",
      "epoch [213/300], loss:0.1143, val_loss:0.12415, val_RMSE:0.35235, lr:0.001\n",
      "epoch [214/300], loss:0.1155, val_loss:0.12448, val_RMSE:0.35282, lr:0.001\n",
      "epoch [215/300], loss:0.1160, val_loss:0.1249, val_RMSE:0.35341, lr:0.001\n",
      "epoch [216/300], loss:0.1154, val_loss:0.125, val_RMSE:0.35356, lr:0.001\n",
      "epoch [217/300], loss:0.1150, val_loss:0.12493, val_RMSE:0.35345, lr:0.001\n",
      "epoch [218/300], loss:0.1148, val_loss:0.12488, val_RMSE:0.35338, lr:0.001\n",
      "epoch [219/300], loss:0.1149, val_loss:0.12488, val_RMSE:0.35338, lr:0.001\n",
      "epoch [220/300], loss:0.1149, val_loss:0.12485, val_RMSE:0.35334, lr:0.001\n",
      "epoch [221/300], loss:0.1148, val_loss:0.12484, val_RMSE:0.35333, lr:0.001\n"
     ]
    },
    {
     "name": "stdout",
     "output_type": "stream",
     "text": [
      "epoch [222/300], loss:0.1149, val_loss:0.12486, val_RMSE:0.35335, lr:0.001\n",
      "epoch [223/300], loss:0.1146, val_loss:0.12488, val_RMSE:0.35338, lr:0.001\n",
      "epoch [224/300], loss:0.1151, val_loss:0.12486, val_RMSE:0.35336, lr:0.001\n",
      "epoch [225/300], loss:0.1148, val_loss:0.1248, val_RMSE:0.35327, lr:0.001\n",
      "epoch [226/300], loss:0.1149, val_loss:0.12483, val_RMSE:0.35332, lr:0.001\n",
      "epoch [227/300], loss:0.1149, val_loss:0.12487, val_RMSE:0.35336, lr:0.001\n",
      "epoch [228/300], loss:0.1150, val_loss:0.12488, val_RMSE:0.35338, lr:0.001\n",
      "epoch [229/300], loss:0.1149, val_loss:0.1249, val_RMSE:0.35341, lr:0.001\n",
      "epoch [230/300], loss:0.1153, val_loss:0.12489, val_RMSE:0.3534, lr:0.001\n",
      "epoch [231/300], loss:0.1150, val_loss:0.12488, val_RMSE:0.35338, lr:0.001\n",
      "epoch [232/300], loss:0.1147, val_loss:0.12489, val_RMSE:0.35339, lr:0.001\n",
      "epoch [233/300], loss:0.1145, val_loss:0.12486, val_RMSE:0.35335, lr:0.001\n",
      "epoch [234/300], loss:0.1149, val_loss:0.12487, val_RMSE:0.35337, lr:0.001\n",
      "epoch [235/300], loss:0.1152, val_loss:0.12484, val_RMSE:0.35332, lr:0.001\n",
      "epoch [236/300], loss:0.1146, val_loss:0.12484, val_RMSE:0.35333, lr:0.001\n",
      "epoch [237/300], loss:0.1149, val_loss:0.12486, val_RMSE:0.35335, lr:0.001\n",
      "epoch [238/300], loss:0.1151, val_loss:0.12482, val_RMSE:0.35329, lr:0.001\n",
      "epoch [239/300], loss:0.1148, val_loss:0.12482, val_RMSE:0.35329, lr:0.001\n",
      "epoch [240/300], loss:0.1145, val_loss:0.12484, val_RMSE:0.35332, lr:0.001\n",
      "epoch [241/300], loss:0.1146, val_loss:0.1249, val_RMSE:0.35341, lr:0.001\n",
      "epoch [242/300], loss:0.1150, val_loss:0.12493, val_RMSE:0.35346, lr:0.001\n",
      "epoch [243/300], loss:0.1148, val_loss:0.12485, val_RMSE:0.35333, lr:0.001\n",
      "epoch [244/300], loss:0.1150, val_loss:0.1248, val_RMSE:0.35327, lr:0.001\n",
      "epoch [245/300], loss:0.1146, val_loss:0.12483, val_RMSE:0.35331, lr:0.001\n",
      "epoch [246/300], loss:0.1148, val_loss:0.12486, val_RMSE:0.35336, lr:0.001\n",
      "epoch [247/300], loss:0.1148, val_loss:0.12482, val_RMSE:0.3533, lr:0.001\n",
      "epoch [248/300], loss:0.1150, val_loss:0.12481, val_RMSE:0.35328, lr:0.001\n",
      "epoch [249/300], loss:0.1149, val_loss:0.12483, val_RMSE:0.35331, lr:0.001\n",
      "epoch [250/300], loss:0.1148, val_loss:0.12484, val_RMSE:0.35332, lr:0.001\n",
      "epoch [251/300], loss:0.1146, val_loss:0.12482, val_RMSE:0.3533, lr:0.001\n",
      "epoch [252/300], loss:0.1150, val_loss:0.12486, val_RMSE:0.35335, lr:0.001\n",
      "epoch [253/300], loss:0.1146, val_loss:0.1249, val_RMSE:0.35341, lr:0.001\n",
      "epoch [254/300], loss:0.1150, val_loss:0.12486, val_RMSE:0.35335, lr:0.001\n",
      "epoch [255/300], loss:0.1151, val_loss:0.12482, val_RMSE:0.35331, lr:0.001\n",
      "epoch [256/300], loss:0.1144, val_loss:0.12484, val_RMSE:0.35332, lr:0.001\n",
      "epoch [257/300], loss:0.1149, val_loss:0.12484, val_RMSE:0.35333, lr:0.001\n",
      "epoch [258/300], loss:0.1147, val_loss:0.12479, val_RMSE:0.35326, lr:0.001\n",
      "epoch [259/300], loss:0.1146, val_loss:0.12481, val_RMSE:0.35329, lr:0.001\n",
      "epoch [260/300], loss:0.1151, val_loss:0.12483, val_RMSE:0.35331, lr:0.001\n",
      "epoch [261/300], loss:0.1146, val_loss:0.12481, val_RMSE:0.35328, lr:0.001\n"
     ]
    }
   ],
   "source": [
    "epochs = 300\n",
    "steps = 0\n",
    "\n",
    "# initialize Adam optimizer\n",
    "optimizer = torch.optim.Adam(model.parameters(), lr=0.001)\n",
    "\n",
    "epoch_scheduler = torch.optim.lr_scheduler.ReduceLROnPlateau(optimizer,mode='min',factor=0.5,patience=50,min_lr=0.001)###设置学习率下降策略，连续50次loss没有下降，学习率为原来的0.1倍，最小值为0.0001\n",
    "Losses = nn.MSELoss()\n",
    "\n",
    "\n",
    "###这个patience是连续150次，loss还是没有下降就停止运行\n",
    "patience = 100\n",
    "###这个是用于更新初始的val_loss的阈值\n",
    "T_val_loss = 9999\n",
    "counter = 0\n",
    "train_loss = []\n",
    "train_flood = []\n",
    "val_loss = []\n",
    "all_epochs = []\n",
    "lr_step = []\n",
    "###这个是模型权重的保存\n",
    "save_dir = \"model/\"\n",
    "if not os.path.exists(save_dir):\n",
    "    os.makedirs(save_dir)\n",
    "\n",
    "for epoch in range(1, epochs + 1):\n",
    "    epoch_loss = 0\n",
    "    flood_loss = 0\n",
    "    model.train()\n",
    "    for batch_idx, (data, target) in enumerate(data_train_loader):\n",
    "        total = 0\n",
    "        data, target = data.to(device), target.to(device)\n",
    "        # data = data.view(-1, input_channels, seq_length)#permute(0,2,1)\n",
    "        # 上述一步是Torch中卷积操作独有的，如果是LSTM，transformer可以注释掉这行代码\n",
    "\n",
    "        optimizer.zero_grad()\n",
    "        output = model(data)\n",
    "        output = output.squeeze(1)\n",
    "        loss = Losses(output, target)\n",
    "        loss.backward()\n",
    "        #         #这里添加梯度回退技巧，有一篇论文用到，你们可以试试\n",
    "        #         b = torch.Tensor([145]).to(device)\n",
    "        #         flood = (loss-b).abs()+b\n",
    "        #         flood.backward()\n",
    "        optimizer.step()\n",
    "\n",
    "        epoch_loss += loss.item()\n",
    "        #         flood_loss +=loss.item()\n",
    "        total = batch_idx + 1\n",
    "    epoch_loss = epoch_loss / total\n",
    "    #     flood_loss = flood_loss/total\n",
    "    ##############################还是要注意，不能把你要测试的数据放在这里进行验证####################################\n",
    "    \"\"\"不能使用是data_test_loader的数据作为  验证集，否则是算作弊\n",
    "         需要做的办法：从训练集中随机，打乱抽取0.1-0.3的样本作为验证集 data_val_loader\n",
    "         这个在TensorFlow中始很容易实现，但是Torch中我这一块没有研究，我自己代码是以TF2.X框架为主\n",
    "         这个你们需要自己去查查，怎么制作新的validdata\n",
    "    \"\"\"\n",
    "    min_val_loss, val_rmse = Epoch_evaluate(model, data_val_loader)  ###\n",
    "\n",
    "    # 学习率衰减策略\n",
    "    epoch_scheduler.step(min_val_loss)\n",
    "    lr_current = optimizer.param_groups[0]['lr']\n",
    "    lr_step.append(lr_current)\n",
    "\n",
    "    print('epoch [{}/{}], loss:{:.4f}, val_loss:{}, val_RMSE:{}, lr:{}'.format(epoch, epochs,\n",
    "                                                                               epoch_loss, min_val_loss, val_rmse,\n",
    "                                                                               lr_current))  # {:.4f}\n",
    "    ##这里是保存最后一个epoch的权重\n",
    "    torch.save(model.state_dict(), os.path.join(save_dir, \"model_on_last_epoch.pth\"))\n",
    "\n",
    "    if epoch % 1 == 0:\n",
    "        train_loss.append(epoch_loss)\n",
    "        val_loss.append(min_val_loss)\n",
    "        all_epochs.append(epoch)\n",
    "    \"\"\"这里是设置训练的early stop patience \"\"\"\n",
    "    # 对测试集上的test_loss进行监视，并设置patience，保存在测试集上表现最好的model\n",
    "    if T_val_loss >= min_val_loss:\n",
    "        T_val_loss = min_val_loss\n",
    "        # print(\"Saving...\")\n",
    "        best_epoch = epoch  # 找到最佳的epoch编号\n",
    "        torch.save(model.state_dict(), os.path.join(save_dir, \"model_onTestBest.pth\"))\n",
    "        counter = 0\n",
    "    else:\n",
    "        counter += 1\n",
    "    if counter == patience:\n",
    "        break\n"
   ]
  },
  {
   "cell_type": "code",
   "execution_count": null,
   "metadata": {},
   "outputs": [],
   "source": []
  },
  {
   "cell_type": "code",
   "execution_count": null,
   "metadata": {},
   "outputs": [],
   "source": []
  },
  {
   "cell_type": "code",
   "execution_count": 14,
   "metadata": {
    "ExecuteTime": {
     "end_time": "2023-01-18T08:50:43.264815Z",
     "start_time": "2023-01-18T08:50:42.891511Z"
    }
   },
   "outputs": [
    {
     "data": {
      "image/png": "[encoded data removed]",
      "text/plain": [
       "<Figure size 640x480 with 1 Axes>"
      ]
     },
     "metadata": {},
     "output_type": "display_data"
    }
   ],
   "source": [
    "\"\"\"训练loss查看\"\"\"\n",
    "#没有划分验证集，所以这个是测试集数据\n",
    "plt.grid(linestyle=\"--\")\n",
    "plt.plot(all_epochs,train_loss)\n",
    "plt.plot(all_epochs,val_loss)\n",
    "plt.title('LN batch_size=128')\n",
    "plt.ylabel('Loss')\n",
    "plt.xlabel('Epochs')\n",
    "plt.legend(['loss', 'val_loss'], loc='upper right')\n",
    "plt.savefig('model/loss.png' ,bbox_inches='tight', dpi=300)  # 600\n",
    "plt.show()"
   ]
  },
  {
   "cell_type": "code",
   "execution_count": 15,
   "metadata": {
    "ExecuteTime": {
     "end_time": "2023-01-18T08:50:46.618238Z",
     "start_time": "2023-01-18T08:50:46.195414Z"
    }
   },
   "outputs": [
    {
     "name": "stdout",
     "output_type": "stream",
     "text": [
      "epoch [161/300], loss:0.1130,     RMSE:0.33611,\n",
      "epoch [161/300], val_loss:0.1076, val_RMSE:0.32799\n"
     ]
    }
   ],
   "source": [
    "\"\"\"评估\"\"\"\n",
    "model.load_state_dict(torch.load(os.path.join(save_dir, \"model_onTestBest.pth\")))\n",
    "train_metrics=[]\n",
    "test_metrics =[]\n",
    "train_metrics = Epoch_evaluate(model,data_train_loader)\n",
    "test_metrics = Epoch_evaluate(model,data_test_loader) \n",
    "print('epoch [{}/{}], loss:{:.4f},     RMSE:{},'.format(best_epoch,epochs,train_metrics[0],train_metrics[1]))\n",
    "print('epoch [{}/{}], val_loss:{:.4f}, val_RMSE:{}'.format(best_epoch,epochs,test_metrics[0],test_metrics[1]))"
   ]
  },
  {
   "cell_type": "code",
   "execution_count": 18,
   "metadata": {
    "ExecuteTime": {
     "end_time": "2023-01-18T08:50:47.386040Z",
     "start_time": "2023-01-18T08:50:47.310207Z"
    }
   },
   "outputs": [],
   "source": [
    "##保存评价指标：对于轴承\n",
    "df = pd.DataFrame({'MSE':[train_metrics[0]] ,\n",
    "                   'RMSE': [train_metrics[1]],})\n",
    "\n",
    "df.transpose().to_csv(\"model/评估得分.txt\",\n",
    "                      mode='w',header=['train'],sep=' ',index=[\"MSE\",\"RMSE\"])\n",
    "df = pd.DataFrame({'MSE':[test_metrics[0]] ,\n",
    "                   'RMSE': [test_metrics[1]],})\n",
    "\n",
    "df.transpose().to_csv(\"model/评估得分.txt\",\n",
    "                      mode='a',header=['test'],sep=' ',index=[\"MSE\",\"RMSE\"])"
   ]
  },
  {
   "cell_type": "markdown",
   "metadata": {},
   "source": [
    "# 四.轴承RUL预测与可视化"
   ]
  },
  {
   "cell_type": "markdown",
   "metadata": {},
   "source": [
    "## 训练集的预测"
   ]
  },
  {
   "cell_type": "code",
   "execution_count": 19,
   "metadata": {
    "ExecuteTime": {
     "end_time": "2023-01-18T08:50:50.240207Z",
     "start_time": "2023-01-18T08:50:49.921062Z"
    }
   },
   "outputs": [],
   "source": [
    "##训练集的预测\n",
    "y_train_preds,y_train_true = Last_evaluate2(model,data_train_loader)"
   ]
  },
  {
   "cell_type": "code",
   "execution_count": 20,
   "metadata": {},
   "outputs": [
    {
     "data": {
      "text/plain": [
       "(6049,)"
      ]
     },
     "execution_count": 20,
     "metadata": {},
     "output_type": "execute_result"
    }
   ],
   "source": [
    "y_train_true.shape"
   ]
  },
  {
   "cell_type": "code",
   "execution_count": 21,
   "metadata": {
    "ExecuteTime": {
     "end_time": "2023-01-18T08:50:50.999665Z",
     "start_time": "2023-01-18T08:50:50.906914Z"
    }
   },
   "outputs": [],
   "source": [
    "\"\"\"保存预测的RUL值与实际的RUL值\"\"\"\n",
    "\n",
    "y_train_All=pd.DataFrame({'Pre':y_train_preds,\n",
    "                   'Actual':y_train_true})\n",
    "y_train_All.to_csv(\"model/y_train_Pre.csv\",\n",
    "                      mode='w',header=[\"Pre\",\"Actual\"],sep=',',index=0)"
   ]
  },
  {
   "cell_type": "markdown",
   "metadata": {},
   "source": [
    "## 测试集的预测"
   ]
  },
  {
   "cell_type": "code",
   "execution_count": 22,
   "metadata": {
    "ExecuteTime": {
     "end_time": "2023-01-18T08:50:51.850483Z",
     "start_time": "2023-01-18T08:50:51.685722Z"
    }
   },
   "outputs": [],
   "source": [
    "##测试集的预测\n",
    "y_test_preds,y_test_true = Last_evaluate2(model,data_test_loader)"
   ]
  },
  {
   "cell_type": "code",
   "execution_count": 23,
   "metadata": {
    "ExecuteTime": {
     "end_time": "2023-01-18T08:50:52.639720Z",
     "start_time": "2023-01-18T08:50:52.563719Z"
    }
   },
   "outputs": [],
   "source": [
    "\"\"\"保存预测的RUL值与实际的RUL值\"\"\"\n",
    "\n",
    "y_All=pd.DataFrame({'Pre':y_test_preds,\n",
    "                   'Actual':y_test_true})\n",
    "y_All.to_csv(\"model/y_test_Pre.csv\",\n",
    "                      mode='w',header=[\"Pre\",\"Actual\"],sep=',',index=0)"
   ]
  },
  {
   "cell_type": "markdown",
   "metadata": {},
   "source": [
    "## 轴承的可视化以及RUL预测数据的保存"
   ]
  },
  {
   "cell_type": "code",
   "execution_count": 24,
   "metadata": {
    "ExecuteTime": {
     "end_time": "2023-01-18T08:50:53.387013Z",
     "start_time": "2023-01-18T08:50:53.293711Z"
    }
   },
   "outputs": [],
   "source": [
    "# 可视化\n",
    "\"\"\"这里轴承的可视化，不包括ma、eam、SG滤波三种平滑方法，有兴趣自己添加或者再找我\"\"\"\n",
    "\"\"\"这里以XJTU-SY_Bearing_Datasets\\37.5Hz11kN的数据集为例\n",
    "训练集:   Bearing2-1：长度491\n",
    "              Bearing2-2：长度161\n",
    "              Bearing2-3：长度533\n",
    "测试集:   Bearing2-4：长度42\n",
    "              Bearing2-5：长度339\n",
    "\"\"\"\n",
    "from sklearn.metrics import mean_squared_error\n",
    "\n",
    "def calculateScore(y_pred, y_test):\n",
    "    y_pred = list(map(lambda x: x[0], y_pred))\n",
    "    return mean_squared_error(y_pred, y_test)\n",
    "\n",
    "def plotUnitLines_y_test(y_test, y_pred, unit, Bpath='', figsize=[8, 6], plotname='', dirs=None):\n",
    "\n",
    "    mse = mean_squared_error(y_test, y_pred)\n",
    "\n",
    "    x = range(len(y_pred))\n",
    "\n",
    "    data_list = []\n",
    "   \n",
    "\n",
    "    fig = plt.figure(figsize=figsize)\n",
    "   \n",
    "    plt.plot(x, y_pred, color=\"red\", label='原始预测', linewidth=1)\n",
    "    plt.plot(x, y_test, color='blue', label='实际值', linewidth=1)\n",
    "    plt.xlim(0, max(x))\n",
    "    plt.ylim(0, )\n",
    "    plt.grid(linestyle=\"--\")\n",
    "    plt.title('Bearing1_' + str(unit) + ', MSE: ' + str('%.5f' % mse) ,\n",
    "              fontsize=12)\n",
    "    plt.ylabel('RUL(%)', fontsize=12)\n",
    "    plt.xlabel('Running Time (*10s)', fontsize=12)\n",
    "    plt.legend(fontsize=12)\n",
    "    fig.tight_layout()\n",
    "\n",
    "    if len(plotname) > 0:\n",
    "        save_dir = dirs + Bpath\n",
    "        if not os.path.exists(save_dir):\n",
    "            os.makedirs(save_dir)\n",
    "        plt.savefig(save_dir + plotname + \".png\", bbox_inches='tight', dpi=300, format='png')  # 600\n",
    "        np.savetxt(save_dir + plotname + \"RULPre.csv\", y_pred)\n",
    "        np.savetxt(save_dir + plotname + \"Act_RUL.csv\", y_test)\n",
    "        np.savetxt(save_dir + plotname + \"x_axis.csv\", x)\n",
    "    plt.show()"
   ]
  },
  {
   "cell_type": "markdown",
   "metadata": {},
   "source": [
    "## 注意用y_test_true和y_train_true绘图会出现锯齿"
   ]
  },
  {
   "cell_type": "code",
   "execution_count": 25,
   "metadata": {
    "ExecuteTime": {
     "end_time": "2023-01-18T08:50:55.426723Z",
     "start_time": "2023-01-18T08:50:54.057582Z"
    },
    "scrolled": false
   },
   "outputs": [
    {
     "ename": "NameError",
     "evalue": "name 'y_train' is not defined",
     "output_type": "error",
     "traceback": [
      "\u001b[1;31m---------------------------------------------------------------------------\u001b[0m",
      "\u001b[1;31mNameError\u001b[0m                                 Traceback (most recent call last)",
      "\u001b[1;32m~\\AppData\\Local\\Temp\\ipykernel_25124\\4083437800.py\u001b[0m in \u001b[0;36m<module>\u001b[1;34m\u001b[0m\n\u001b[0;32m      1\u001b[0m \u001b[1;31m###训练集可视化\u001b[0m\u001b[1;33m\u001b[0m\u001b[1;33m\u001b[0m\u001b[1;33m\u001b[0m\u001b[0m\n\u001b[1;32m----> 2\u001b[1;33m plotUnitLines_y_test(y_train_preds[:2803], y_train[:2803], unit=1, \n\u001b[0m\u001b[0;32m      3\u001b[0m                      Bpath=\"best_epoch_result/B1_1/\", figsize=[8, 6], plotname='B1_1_', dirs=save_dir)\n\u001b[0;32m      4\u001b[0m plotUnitLines_y_test(y_train_preds[2803:2803+871], y_train[2803:2803+871], unit=2,\n\u001b[0;32m      5\u001b[0m                      Bpath=\"best_epoch_result/B1_2/\", figsize=[8, 6], plotname='B1_2_', dirs=save_dir)\n",
      "\u001b[1;31mNameError\u001b[0m: name 'y_train' is not defined"
     ]
    }
   ],
   "source": [
    "###训练集可视化\n",
    "plotUnitLines_y_test(y_train_preds[:2803], y_train[:2803], unit=1, \n",
    "                     Bpath=\"best_epoch_result/B1_1/\", figsize=[8, 6], plotname='B1_1_', dirs=save_dir)\n",
    "plotUnitLines_y_test(y_train_preds[2803:2803+871], y_train[2803:2803+871], unit=2,\n",
    "                     Bpath=\"best_epoch_result/B1_2/\", figsize=[8, 6], plotname='B1_2_', dirs=save_dir)\n",
    "# plotUnitLines_y_test(y_train_preds[491+161: 491+161+533], y_train[491+161: 491+161+533 ], unit=3,\n",
    "#                      Bpath=\"best_epoch_result/B1_3/\", figsize=[8, 6], plotname='B1_3_', dirs=save_dir)"
   ]
  },
  {
   "cell_type": "code",
   "execution_count": 130,
   "metadata": {
    "ExecuteTime": {
     "end_time": "2023-01-18T08:50:57.119292Z",
     "start_time": "2023-01-18T08:50:56.119325Z"
    }
   },
   "outputs": [
    {
     "data": {
      "image/png": "[encoded data removed]",
      "text/plain": [
       "<Figure size 800x600 with 1 Axes>"
      ]
     },
     "metadata": {},
     "output_type": "display_data"
    }
   ],
   "source": [
    "###测试集可视化\n",
    "plotUnitLines_y_test(y_test_preds[:1802], y_test[:1802], unit=1, \n",
    "                     Bpath=\"best_epoch_result/B1_3/\", figsize=[8, 6], plotname='B1_4_', dirs=save_dir)\n",
    "# plotUnitLines_y_test(y_test_preds[42:42+339], y_test[42:42+339], unit=2,\n",
    "#                      Bpath=\"best_epoch_result/B1_5/\", figsize=[8, 6], plotname='B1_5_', dirs=save_dir)"
   ]
  },
  {
   "cell_type": "markdown",
   "metadata": {},
   "source": [
    "### 上述图不是FFT和原始信号特征，效果果然不好，，，还是要在特征层面下足功夫"
   ]
  },
  {
   "cell_type": "code",
   "execution_count": null,
   "metadata": {},
   "outputs": [],
   "source": []
  },
  {
   "cell_type": "code",
   "execution_count": null,
   "metadata": {},
   "outputs": [],
   "source": []
  },
  {
   "cell_type": "code",
   "execution_count": null,
   "metadata": {},
   "outputs": [],
   "source": []
  }
 ],
 "metadata": {
  "accelerator": "GPU",
  "colab": {
   "collapsed_sections": [],
   "name": "data_add_timestep.ipynb",
   "provenance": []
  },
  "kernelspec": {
   "display_name": "pytorch",
   "language": "python",
   "name": "pytorch"
  },
  "language_info": {
   "codemirror_mode": {
    "name": "ipython",
    "version": 3
   },
   "file_extension": ".py",
   "mimetype": "text/x-python",
   "name": "python",
   "nbconvert_exporter": "python",
   "pygments_lexer": "ipython3",
   "version": "3.7.16"
  },
  "varInspector": {
   "cols": {
    "lenName": 16,
    "lenType": 16,
    "lenVar": 40
   },
   "kernels_config": {
    "python": {
     "delete_cmd_postfix": "",
     "delete_cmd_prefix": "del ",
     "library": "var_list.py",
     "varRefreshCmd": "print(var_dic_list())"
    },
    "r": {
     "delete_cmd_postfix": ") ",
     "delete_cmd_prefix": "rm(",
     "library": "var_list.r",
     "varRefreshCmd": "cat(var_dic_list()) "
    }
   },
   "oldHeight": 531.388,
   "position": {
    "height": "40px",
    "left": "563px",
    "right": "20px",
    "top": "94px",
    "width": "606px"
   },
   "types_to_exclude": [
    "module",
    "function",
    "builtin_function_or_method",
    "instance",
    "_Feature"
   ],
   "varInspector_section_display": "none",
   "window_display": false
  }
 },
 "nbformat": 4,
 "nbformat_minor": 1
}
